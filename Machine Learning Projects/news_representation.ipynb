{
 "cells": [
  {
   "cell_type": "markdown",
   "id": "bf08cce4",
   "metadata": {},
   "source": [
    "# Fake News \n",
    "\n",
    "__Diondra Stubbs__\n",
    "\n",
    "__Assignment 12__\n",
    "\n",
    "__2022 December 1__\n",
    "\n",
    "## Data\n",
    "\n",
    "The data includes variables:\n",
    "\n",
    "__‘text’__: contents of an article\n",
    "\n",
    "‘__label’__: whether it is real or fake news\n",
    "\n",
    "__‘title’__: title of the article\n",
    "\n",
    "## Objective\n",
    "\n",
    "The task is to to perform __feature extraction__, on the provided data to answer the following questions:\n",
    "\n",
    "1. Is the text or the title of an article more predictive of whether it is real or fake?\n",
    "1. Are titles of real or fake news more similar to one another?"
   ]
  },
  {
   "cell_type": "code",
   "execution_count": 2,
   "id": "92164a1b",
   "metadata": {},
   "outputs": [],
   "source": [
    "# imports\n",
    "import numpy as np\n",
    "import pandas as pd\n",
    "import seaborn as sns\n",
    "import matplotlib.pyplot as plt\n",
    "from sklearn.feature_extraction import text\n",
    "from sklearn.naive_bayes import MultinomialNB\n",
    "from sklearn.model_selection import train_test_split\n",
    "from sklearn.metrics.pairwise import euclidean_distances\n",
    "from sklearn.feature_extraction.text import CountVectorizer"
   ]
  },
  {
   "cell_type": "markdown",
   "id": "906f0200",
   "metadata": {},
   "source": [
    "## Reading in the Data\n",
    "\n",
    "I'm using Pandas library to read in the data."
   ]
  },
  {
   "cell_type": "code",
   "execution_count": 5,
   "id": "1302fc0d",
   "metadata": {},
   "outputs": [],
   "source": [
    "news_url = 'https://raw.githubusercontent.com/rhodyprog4ds/12-fake-news-stubbsdiondra/main/fake_or_real_news.csv?token=GHSAT0AAAAAAB3L5S7D6QRBKDNJ5M2YCZWYY4SEZ3A'\n",
    "news_data = pd.read_csv(news_url)"
   ]
  },
  {
   "cell_type": "code",
   "execution_count": 6,
   "id": "20b736e7",
   "metadata": {},
   "outputs": [
    {
     "data": {
      "text/html": [
       "<div>\n",
       "<style scoped>\n",
       "    .dataframe tbody tr th:only-of-type {\n",
       "        vertical-align: middle;\n",
       "    }\n",
       "\n",
       "    .dataframe tbody tr th {\n",
       "        vertical-align: top;\n",
       "    }\n",
       "\n",
       "    .dataframe thead th {\n",
       "        text-align: right;\n",
       "    }\n",
       "</style>\n",
       "<table border=\"1\" class=\"dataframe\">\n",
       "  <thead>\n",
       "    <tr style=\"text-align: right;\">\n",
       "      <th></th>\n",
       "      <th>id</th>\n",
       "      <th>title</th>\n",
       "      <th>text</th>\n",
       "      <th>label</th>\n",
       "    </tr>\n",
       "  </thead>\n",
       "  <tbody>\n",
       "    <tr>\n",
       "      <th>0</th>\n",
       "      <td>8476</td>\n",
       "      <td>You Can Smell Hillary’s Fear</td>\n",
       "      <td>Daniel Greenfield, a Shillman Journalism Fello...</td>\n",
       "      <td>FAKE</td>\n",
       "    </tr>\n",
       "    <tr>\n",
       "      <th>1</th>\n",
       "      <td>10294</td>\n",
       "      <td>Watch The Exact Moment Paul Ryan Committed Pol...</td>\n",
       "      <td>Google Pinterest Digg Linkedin Reddit Stumbleu...</td>\n",
       "      <td>FAKE</td>\n",
       "    </tr>\n",
       "    <tr>\n",
       "      <th>2</th>\n",
       "      <td>3608</td>\n",
       "      <td>Kerry to go to Paris in gesture of sympathy</td>\n",
       "      <td>U.S. Secretary of State John F. Kerry said Mon...</td>\n",
       "      <td>REAL</td>\n",
       "    </tr>\n",
       "    <tr>\n",
       "      <th>3</th>\n",
       "      <td>10142</td>\n",
       "      <td>Bernie supporters on Twitter erupt in anger ag...</td>\n",
       "      <td>— Kaydee King (@KaydeeKing) November 9, 2016 T...</td>\n",
       "      <td>FAKE</td>\n",
       "    </tr>\n",
       "    <tr>\n",
       "      <th>4</th>\n",
       "      <td>875</td>\n",
       "      <td>The Battle of New York: Why This Primary Matters</td>\n",
       "      <td>It's primary day in New York and front-runners...</td>\n",
       "      <td>REAL</td>\n",
       "    </tr>\n",
       "  </tbody>\n",
       "</table>\n",
       "</div>"
      ],
      "text/plain": [
       "      id                                              title  \\\n",
       "0   8476                       You Can Smell Hillary’s Fear   \n",
       "1  10294  Watch The Exact Moment Paul Ryan Committed Pol...   \n",
       "2   3608        Kerry to go to Paris in gesture of sympathy   \n",
       "3  10142  Bernie supporters on Twitter erupt in anger ag...   \n",
       "4    875   The Battle of New York: Why This Primary Matters   \n",
       "\n",
       "                                                text label  \n",
       "0  Daniel Greenfield, a Shillman Journalism Fello...  FAKE  \n",
       "1  Google Pinterest Digg Linkedin Reddit Stumbleu...  FAKE  \n",
       "2  U.S. Secretary of State John F. Kerry said Mon...  REAL  \n",
       "3  — Kaydee King (@KaydeeKing) November 9, 2016 T...  FAKE  \n",
       "4  It's primary day in New York and front-runners...  REAL  "
      ]
     },
     "execution_count": 6,
     "metadata": {},
     "output_type": "execute_result"
    }
   ],
   "source": [
    "news_data.head()"
   ]
  },
  {
   "cell_type": "markdown",
   "id": "6f0833c2",
   "metadata": {},
   "source": [
    "## Representing Text Data\n",
    "\n",
    "Natural Language Processing (NLP) is a branch of AI that deals with human language to make a system able to understand and respond to language. Data should always be represented in a way that helps easy understanding and modeling.\n",
    "\n",
    "__Feature Extraction__ is the process of taking unstructured data into strucutred (tabular) format. It's the process of converting text into numbers. Machines can only understand numbers and to make machines identiy language or text, we need to change it's representation to numeric form. \n",
    "\n",
    "The goal of changing the representation of this data is so that we can analyze it and perform prediciton modeling."
   ]
  },
  {
   "cell_type": "markdown",
   "id": "77bab986",
   "metadata": {},
   "source": [
    "### Is the text or the title of an article more predictive of whether it is real or fake? \n",
    "\n",
    "To go about this, I'm going to fit two models to predict the label. One with text and one with title.Labels tells us whether the article is real or fake news. X is going to be text or title and Y is going to be the label FAKE or REAL.\n",
    "\n",
    "#### Text Data\n",
    "\n",
    "The information in the __text__ column is the actual content of the article. Here we are defining that as __X__. __Labels__ tells us whether the article is REAL or FAKE news and we're going to define it as __Y__,\n",
    "\n",
    "So right now what we want to do is to take the __text__ of an article and predict whether the news is real or fake."
   ]
  },
  {
   "cell_type": "code",
   "execution_count": 16,
   "id": "3352da0f",
   "metadata": {},
   "outputs": [
    {
     "data": {
      "text/plain": [
       "Index(['id', 'title', 'text', 'label'], dtype='object')"
      ]
     },
     "execution_count": 16,
     "metadata": {},
     "output_type": "execute_result"
    }
   ],
   "source": [
    "news_data.columns"
   ]
  },
  {
   "cell_type": "code",
   "execution_count": 17,
   "id": "9114ca4b",
   "metadata": {},
   "outputs": [],
   "source": [
    "news_text_X = news_data['text']\n",
    "news_text_y = news_data['label']"
   ]
  },
  {
   "cell_type": "code",
   "execution_count": 18,
   "id": "89baa85b",
   "metadata": {},
   "outputs": [
    {
     "data": {
      "text/plain": [
       "0    FAKE\n",
       "1    FAKE\n",
       "2    REAL\n",
       "3    FAKE\n",
       "4    REAL\n",
       "Name: label, dtype: object"
      ]
     },
     "execution_count": 18,
     "metadata": {},
     "output_type": "execute_result"
    }
   ],
   "source": [
    "news_text_y[:5]"
   ]
  },
  {
   "cell_type": "code",
   "execution_count": 19,
   "id": "ea2f6ec5",
   "metadata": {
    "scrolled": true
   },
   "outputs": [
    {
     "data": {
      "text/plain": [
       "'Daniel Greenfield, a Shillman Journalism Fellow at the Freedom Center, is a New York writer focusing on radical Islam. \\nIn the final stretch of the election, Hillary Rodham Clinton has gone to war with the FBI. \\nThe word “unprecedented” has been thrown around so often this election that it ought to be retired. But it’s still unprecedented for the nominee of a major political party to go war with the FBI. \\nBut that’s exactly what Hillary and her people have done. Coma patients just waking up now and watching an hour of CNN from their hospital beds would assume that FBI Director James Comey is Hillary’s opponent in this election. \\nThe FBI is under attack by everyone from Obama to CNN. Hillary’s people have circulated a letter attacking Comey. There are currently more media hit pieces lambasting him than targeting Trump. It wouldn’t be too surprising if the Clintons or their allies were to start running attack ads against the FBI. \\nThe FBI’s leadership is being warned that the entire left-wing establishment will form a lynch mob if they continue going after Hillary. And the FBI’s credibility is being attacked by the media and the Democrats to preemptively head off the results of the investigation of the Clinton Foundation and Hillary Clinton. \\nThe covert struggle between FBI agents and Obama’s DOJ people has gone explosively public. \\nThe New York Times has compared Comey to J. Edgar Hoover. Its bizarre headline, “James Comey Role Recalls Hoover’s FBI, Fairly or Not” practically admits up front that it’s spouting nonsense. The Boston Globe has published a column calling for Comey’s resignation. Not to be outdone, Time has an editorial claiming that the scandal is really an attack on all women. \\nJames Carville appeared on MSNBC to remind everyone that he was still alive and insane. He accused Comey of coordinating with House Republicans and the KGB. And you thought the “vast right wing conspiracy” was a stretch. \\nCountless media stories charge Comey with violating procedure. Do you know what’s a procedural violation? Emailing classified information stored on your bathroom server. \\nSenator Harry Reid has sent Comey a letter accusing him of violating the Hatch Act. The Hatch Act is a nice idea that has as much relevance in the age of Obama as the Tenth Amendment. But the cable news spectrum quickly filled with media hacks glancing at the Wikipedia article on the Hatch Act under the table while accusing the FBI director of one of the most awkward conspiracies against Hillary ever. \\nIf James Comey is really out to hurt Hillary, he picked one hell of a strange way to do it. \\nNot too long ago Democrats were breathing a sigh of relief when he gave Hillary Clinton a pass in a prominent public statement. If he really were out to elect Trump by keeping the email scandal going, why did he trash the investigation? Was he on the payroll of House Republicans and the KGB back then and playing it coy or was it a sudden development where Vladimir Putin and Paul Ryan talked him into taking a look at Anthony Weiner’s computer? \\nEither Comey is the most cunning FBI director that ever lived or he’s just awkwardly trying to navigate a political mess that has trapped him between a DOJ leadership whose political futures are tied to Hillary’s victory and his own bureau whose apolitical agents just want to be allowed to do their jobs. \\nThe only truly mysterious thing is why Hillary and her associates decided to go to war with a respected Federal agency. Most Americans like the FBI while Hillary Clinton enjoys a 60% unfavorable rating. \\nAnd it’s an interesting question. \\nHillary’s old strategy was to lie and deny that the FBI even had a criminal investigation underway. Instead her associates insisted that it was a security review. The FBI corrected her and she shrugged it off. But the old breezy denial approach has given way to a savage assault on the FBI. \\nPretending that nothing was wrong was a bad strategy, but it was a better one that picking a fight with the FBI while lunatic Clinton associates try to claim that the FBI is really the KGB. \\nThere are two possible explanations. \\nHillary Clinton might be arrogant enough to lash out at the FBI now that she believes that victory is near. The same kind of hubris that led her to plan her victory fireworks display could lead her to declare a war on the FBI for irritating her during the final miles of her campaign. \\nBut the other explanation is that her people panicked. \\nGoing to war with the FBI is not the behavior of a smart and focused presidential campaign. It’s an act of desperation. When a presidential candidate decides that her only option is to try and destroy the credibility of the FBI, that’s not hubris, it’s fear of what the FBI might be about to reveal about her. \\nDuring the original FBI investigation, Hillary Clinton was confident that she could ride it out. And she had good reason for believing that. But that Hillary Clinton is gone. In her place is a paranoid wreck. Within a short space of time the “positive” Clinton campaign promising to unite the country has been replaced by a desperate and flailing operation that has focused all its energy on fighting the FBI. \\nThere’s only one reason for such bizarre behavior. \\nThe Clinton campaign has decided that an FBI investigation of the latest batch of emails poses a threat to its survival. And so it’s gone all in on fighting the FBI. It’s an unprecedented step born of fear. It’s hard to know whether that fear is justified. But the existence of that fear already tells us a whole lot. \\nClinton loyalists rigged the old investigation. They knew the outcome ahead of time as well as they knew the debate questions. Now suddenly they are no longer in control. And they are afraid. \\nYou can smell the fear. \\nThe FBI has wiretaps from the investigation of the Clinton Foundation. It’s finding new emails all the time. And Clintonworld panicked. The spinmeisters of Clintonworld have claimed that the email scandal is just so much smoke without fire. All that’s here is the appearance of impropriety without any of the substance. But this isn’t how you react to smoke. It’s how you respond to a fire. \\nThe misguided assault on the FBI tells us that Hillary Clinton and her allies are afraid of a revelation bigger than the fundamental illegality of her email setup. The email setup was a preemptive cover up. The Clinton campaign has panicked badly out of the belief, right or wrong, that whatever crime the illegal setup was meant to cover up is at risk of being exposed. \\nThe Clintons have weathered countless scandals over the years. Whatever they are protecting this time around is bigger than the usual corruption, bribery, sexual assaults and abuses of power that have followed them around throughout the years. This is bigger and more damaging than any of the allegations that have already come out. And they don’t want FBI investigators anywhere near it. \\nThe campaign against Comey is pure intimidation. It’s also a warning. Any senior FBI people who value their careers are being warned to stay away. The Democrats are closing ranks around their nominee against the FBI. It’s an ugly and unprecedented scene. It may also be their last stand. \\nHillary Clinton has awkwardly wound her way through numerous scandals in just this election cycle. But she’s never shown fear or desperation before. Now that has changed. Whatever she is afraid of, it lies buried in her emails with Huma Abedin. And it can bring her down like nothing else has.  '"
      ]
     },
     "execution_count": 19,
     "metadata": {},
     "output_type": "execute_result"
    }
   ],
   "source": [
    "news_text_X[0]"
   ]
  },
  {
   "cell_type": "markdown",
   "id": "ed8284bd",
   "metadata": {},
   "source": [
    "### Vectorization\n",
    "\n",
    "**Count Vectorizer** is a way to convert a given set of strings into a frequency representation.\n",
    "\n",
    "In order to make our text data appropiate for modeling, I need to instantiate it. I want to fit this to the whole dataset and then dp a test/train split on the vectorized or newly represented data.\n",
    "\n",
    "**Vectorization** is simply converting the text in numbers, in vector form."
   ]
  },
  {
   "cell_type": "code",
   "execution_count": 20,
   "id": "e08150c3",
   "metadata": {},
   "outputs": [],
   "source": [
    "count_vec = text.CountVectorizer()\n",
    "news_vec = count_vec.fit_transform(news_text_X)"
   ]
  },
  {
   "cell_type": "code",
   "execution_count": 21,
   "id": "4d983ce9",
   "metadata": {},
   "outputs": [],
   "source": [
    "news_X_train, news_X_test, news_y_train, news_y_test = train_test_split(\n",
    "                                        news_text_X, news_text_y, random_state=0)"
   ]
  },
  {
   "cell_type": "code",
   "execution_count": 22,
   "id": "a5c3c635",
   "metadata": {},
   "outputs": [],
   "source": [
    "news_vec_train = count_vec.transform(news_X_train)\n",
    "news_vec_test = count_vec.transform(news_X_test)"
   ]
  },
  {
   "cell_type": "markdown",
   "id": "69f0567e",
   "metadata": {},
   "source": [
    "The __multinomial Naive Bayes (MultinomialNB)__ classifier is suitable for classification with discrete features (e.g., word counts for text classification).I'm going to use it to tell me how well fake news is being distinguised from real news from the word counts."
   ]
  },
  {
   "cell_type": "code",
   "execution_count": 23,
   "id": "d8e8fc55",
   "metadata": {},
   "outputs": [],
   "source": [
    "clf = MultinomialNB()"
   ]
  },
  {
   "cell_type": "code",
   "execution_count": 24,
   "id": "8daf76d0",
   "metadata": {},
   "outputs": [
    {
     "data": {
      "text/plain": [
       "0.8800505050505051"
      ]
     },
     "execution_count": 24,
     "metadata": {},
     "output_type": "execute_result"
    }
   ],
   "source": [
    "clf.fit(news_vec_train,news_y_train).score(news_vec_test,news_y_test)"
   ]
  },
  {
   "cell_type": "markdown",
   "id": "c9f3f46d",
   "metadata": {},
   "source": [
    "The validation set score is 88%, which is pretty good. From word counts, we're able to distinguish between fake news and real news articles pretty well. \n",
    "\n",
    "Let's try with **title**\n",
    "\n",
    "#### Title Data\n",
    "\n",
    "The information in the title column is the title of each article. Here we are defining that as X. Once again, labels tells us whether the article is REAL or FAKE news and we're going to define it as Y.\n",
    "\n",
    "I want to take the title of an article and predict whether the news is real or fake."
   ]
  },
  {
   "cell_type": "code",
   "execution_count": 25,
   "id": "4c6e9577",
   "metadata": {},
   "outputs": [],
   "source": [
    "news_title_X = news_data['title']\n",
    "news_title_y = news_data['label']"
   ]
  },
  {
   "cell_type": "code",
   "execution_count": 26,
   "id": "cafc4cf6",
   "metadata": {},
   "outputs": [
    {
     "data": {
      "text/plain": [
       "0    FAKE\n",
       "1    FAKE\n",
       "2    REAL\n",
       "3    FAKE\n",
       "4    REAL\n",
       "Name: label, dtype: object"
      ]
     },
     "execution_count": 26,
     "metadata": {},
     "output_type": "execute_result"
    }
   ],
   "source": [
    "news_title_y[:5]"
   ]
  },
  {
   "cell_type": "code",
   "execution_count": 27,
   "id": "f5623fd1",
   "metadata": {},
   "outputs": [
    {
     "data": {
      "text/plain": [
       "'You Can Smell Hillary’s Fear'"
      ]
     },
     "execution_count": 27,
     "metadata": {},
     "output_type": "execute_result"
    }
   ],
   "source": [
    "news_title_X[0]"
   ]
  },
  {
   "cell_type": "markdown",
   "id": "a7fb7d73",
   "metadata": {},
   "source": [
    "Let's Vectorize again"
   ]
  },
  {
   "cell_type": "code",
   "execution_count": 28,
   "id": "23fe657b",
   "metadata": {},
   "outputs": [],
   "source": [
    "count_vec = text.CountVectorizer()\n",
    "new_vec = count_vec.fit_transform(news_title_X)"
   ]
  },
  {
   "cell_type": "code",
   "execution_count": 29,
   "id": "cc7420c9",
   "metadata": {},
   "outputs": [],
   "source": [
    "new_X_train, new_X_test, new_y_train, new_y_test = train_test_split(\n",
    "                                        news_title_X, news_title_y, random_state=0)"
   ]
  },
  {
   "cell_type": "code",
   "execution_count": 30,
   "id": "d0543a9f",
   "metadata": {},
   "outputs": [],
   "source": [
    "new_vec_train = count_vec.transform(new_X_train)\n",
    "new_vec_test = count_vec.transform(new_X_test)"
   ]
  },
  {
   "cell_type": "code",
   "execution_count": 31,
   "id": "28cad7d4",
   "metadata": {},
   "outputs": [],
   "source": [
    "clf = MultinomialNB()"
   ]
  },
  {
   "cell_type": "code",
   "execution_count": 32,
   "id": "afa3ba3c",
   "metadata": {},
   "outputs": [
    {
     "data": {
      "text/plain": [
       "0.803030303030303"
      ]
     },
     "execution_count": 32,
     "metadata": {},
     "output_type": "execute_result"
    }
   ],
   "source": [
    "clf.fit(new_vec_train,new_y_train).score(new_vec_test,new_y_test)"
   ]
  },
  {
   "cell_type": "markdown",
   "id": "02d765b7",
   "metadata": {},
   "source": [
    "The validation set score is 80%, which is still pretty good but not as good as the model using text.\n",
    "\n",
    "So, **Is the text or the title of an article more predictive of whether it is real or fake?** The text of an article is more predictice of whether it is real or fake since it provides a higher validation score.\n",
    "\n",
    "### Are titles of real or fake news more similar to one another?\n",
    "\n",
    "Yes. While we get a pretty good validation score when using title to predict whether an article is real or fake, the score is not great. It only  correctly distinguishes 80% of articles as real or fake. \n",
    "\n",
    "The titles of real or fake news are more similar to one another. If they weren't our validation score would be higher."
   ]
  },
  {
   "cell_type": "code",
   "execution_count": 33,
   "id": "4bf55d2c",
   "metadata": {},
   "outputs": [
    {
     "name": "stdout",
     "output_type": "stream",
     "text": [
      "Validation Score using title 0.803030303030303\n"
     ]
    }
   ],
   "source": [
    "print(\"Validation Score using title\",clf.fit(new_vec_train,new_y_train).score(new_vec_test,new_y_test))"
   ]
  },
  {
   "cell_type": "markdown",
   "id": "48767175",
   "metadata": {},
   "source": [
    "## Considering Differences\n",
    "\n",
    "There are two different ways you can represent the data. You can do that using **Count Vectorizer**, which converts a given set of strings into a frequency representation or **Term Frequency - Inverse Document Frequency (TF_IDF)** which  focuses on the frequency of words present in the corpus and also provides the importance of the words. TF-IDF is known to be better than Count Vectorizers because it includes focus on the importance of the words.\n",
    "\n",
    "We want consider the differences in how we represent the data and how that might impact our model performance.\n",
    "\n",
    "Recall the validation score from fitting a Multinomial NB model for counts on the text data."
   ]
  },
  {
   "cell_type": "code",
   "execution_count": 39,
   "id": "4261b721",
   "metadata": {},
   "outputs": [
    {
     "data": {
      "text/plain": [
       "0.8800505050505051"
      ]
     },
     "execution_count": 39,
     "metadata": {},
     "output_type": "execute_result"
    }
   ],
   "source": [
    "clf.fit(news_vec_train,news_y_train).score(news_vec_test,news_y_test)"
   ]
  },
  {
   "cell_type": "markdown",
   "id": "3d8573e7",
   "metadata": {},
   "source": [
    "Let's represent the data using TF-IDF and print the validation score."
   ]
  },
  {
   "cell_type": "code",
   "execution_count": 34,
   "id": "8888b7ee",
   "metadata": {},
   "outputs": [
    {
     "data": {
      "text/plain": [
       "TfidfVectorizer()"
      ]
     },
     "execution_count": 34,
     "metadata": {},
     "output_type": "execute_result"
    }
   ],
   "source": [
    "tfidf = text.TfidfVectorizer()\n",
    "\n",
    "tfidf.fit(news_text_X)"
   ]
  },
  {
   "cell_type": "code",
   "execution_count": null,
   "id": "472e6521",
   "metadata": {},
   "outputs": [],
   "source": [
    "news_X_train, news_X_test, news_y_train, news_y_test = train_test_split(\n",
    "                                        news_text_X, news_text_y, random_state=0)"
   ]
  },
  {
   "cell_type": "code",
   "execution_count": 36,
   "id": "db2abe5b",
   "metadata": {},
   "outputs": [],
   "source": [
    "news_tfidf_train = tfidf.transform(news_X_train)\n",
    "news_tfidf_test = tfidf.transform(news_X_test)"
   ]
  },
  {
   "cell_type": "code",
   "execution_count": 38,
   "id": "a737b451",
   "metadata": {},
   "outputs": [
    {
     "data": {
      "text/plain": [
       "0.8049242424242424"
      ]
     },
     "execution_count": 38,
     "metadata": {},
     "output_type": "execute_result"
    }
   ],
   "source": [
    "clf.fit(news_tfidf_train,news_y_train).score(news_tfidf_test,news_y_test)"
   ]
  },
  {
   "cell_type": "markdown",
   "id": "5ad6682a",
   "metadata": {},
   "source": [
    "The validation scores is 80%. However, a Multinomial NB model was used to score the TF-IDF representation. Multinomial NB is an appropriate model for counts, but not for continuous values like the TF-IDF.\n",
    "\n",
    "So let's apply an appropiate classifier for TF-IDF"
   ]
  },
  {
   "cell_type": "code",
   "execution_count": 40,
   "id": "1be3e229",
   "metadata": {},
   "outputs": [
    {
     "data": {
      "text/plain": [
       "<4751x67659 sparse matrix of type '<class 'numpy.float64'>'\n",
       "\twith 1611413 stored elements in Compressed Sparse Row format>"
      ]
     },
     "execution_count": 40,
     "metadata": {},
     "output_type": "execute_result"
    }
   ],
   "source": [
    "news_tfidf_train"
   ]
  },
  {
   "cell_type": "code",
   "execution_count": 41,
   "id": "b858ca21",
   "metadata": {},
   "outputs": [
    {
     "data": {
      "text/plain": [
       "<1584x67659 sparse matrix of type '<class 'numpy.float64'>'\n",
       "\twith 546869 stored elements in Compressed Sparse Row format>"
      ]
     },
     "execution_count": 41,
     "metadata": {},
     "output_type": "execute_result"
    }
   ],
   "source": [
    "news_tfidf_test"
   ]
  },
  {
   "cell_type": "markdown",
   "id": "cf4230c2",
   "metadata": {},
   "source": [
    "Regression algorithms are machine learning techniques for predicting continuous numerical values. Let's try a Logistic Regression model"
   ]
  },
  {
   "cell_type": "code",
   "execution_count": 44,
   "id": "3ab75f05",
   "metadata": {},
   "outputs": [],
   "source": [
    "from sklearn.linear_model import LogisticRegression"
   ]
  },
  {
   "cell_type": "code",
   "execution_count": 45,
   "id": "12d60f3b",
   "metadata": {},
   "outputs": [],
   "source": [
    "log_reg = LogisticRegression(max_iter=1000)"
   ]
  },
  {
   "cell_type": "code",
   "execution_count": 46,
   "id": "bd5ddd2c",
   "metadata": {},
   "outputs": [],
   "source": [
    "log_reg.fit(news_tfidf_train, news_y_train)\n",
    "y_pred = log_reg.predict(news_tfidf_test)"
   ]
  },
  {
   "cell_type": "code",
   "execution_count": 48,
   "id": "3f1b6636",
   "metadata": {},
   "outputs": [
    {
     "data": {
      "text/plain": [
       "0.9090909090909091"
      ]
     },
     "execution_count": 48,
     "metadata": {},
     "output_type": "execute_result"
    }
   ],
   "source": [
    "log_reg.score(news_tfidf_test,news_y_test)"
   ]
  },
  {
   "cell_type": "markdown",
   "id": "beab20ef",
   "metadata": {},
   "source": [
    "The validation score is now 90%. This means that from the TF-IDF we are able to distinguish between fake and real news articles well.\n",
    "\n",
    "This performs better than that from the word counts using a Multinomial NB model. By representing the data as TF-IDF our model performance improves."
   ]
  },
  {
   "cell_type": "code",
   "execution_count": null,
   "id": "66b4751d",
   "metadata": {},
   "outputs": [],
   "source": []
  }
 ],
 "metadata": {
  "kernelspec": {
   "display_name": "Python 3",
   "language": "python",
   "name": "python3"
  },
  "language_info": {
   "codemirror_mode": {
    "name": "ipython",
    "version": 3
   },
   "file_extension": ".py",
   "mimetype": "text/x-python",
   "name": "python",
   "nbconvert_exporter": "python",
   "pygments_lexer": "ipython3",
   "version": "3.8.8"
  }
 },
 "nbformat": 4,
 "nbformat_minor": 5
}
