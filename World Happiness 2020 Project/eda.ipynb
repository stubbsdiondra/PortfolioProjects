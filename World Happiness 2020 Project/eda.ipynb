{
 "cells": [
  {
   "cell_type": "markdown",
   "id": "3a34258c",
   "metadata": {},
   "source": [
    "# World Happiness Report 2020"
   ]
  },
  {
   "cell_type": "markdown",
   "id": "b8ec5ab4",
   "metadata": {},
   "source": [
    "In this program I am loading the World Happiness Report dataset from 2020 into a dataframe and doing some exploratory data analysis."
   ]
  },
  {
   "cell_type": "markdown",
   "id": "f2fd5b78",
   "metadata": {},
   "source": [
    "## About the Dataset\n",
    "\n",
    "This dataset contains the Happiness Score for over 150 countries for the year of 2020. The data gathered from the Gallup World Poll gives a national average of Happiness scores for countries all over the world. It is an annual landmark survey of the state of global happiness.\n",
    "\n",
    "This dataset is from the data repository \"Kaggle\". On Kaggle's dataset page, I searched for Africa Happiness after filtering the search to CSV file type. I wasn't able to find any datasets that could answer my questions that didn't include other countries from different continents. I decided to use a Global Happiness Report to answer the questions I have. The dataset I am using was publish by Micheal Londeen and it was created on March 24, 2020. His main source is the World Happiness Report for 2020.\n",
    "\n",
    "More about this dataset: https://www.kaggle.com/datasets/mathurinache/world-happiness-report?select=2020.csv"
   ]
  },
  {
   "cell_type": "markdown",
   "id": "681887d8",
   "metadata": {},
   "source": [
    "### Dataset Features\n",
    "\n",
    "1. Country Name\n",
    "2. Regional Indicator\n",
    "3. Happiness score (Ladder Score)\n",
    "5. Healthy Life Expectancy (HLE)\n",
    "6. Social support\n",
    "7. Freedom to make life choices\n",
    "8. Generosity\n",
    "9. Perceptions of Corruption\n",
    "\n",
    "Explanation of the features: https://happiness-report.s3.amazonaws.com/2020/WHR20_Ch2_Statistical_Appendix.pdf"
   ]
  },
  {
   "cell_type": "markdown",
   "id": "c30117b9",
   "metadata": {},
   "source": [
    "### EDA Questions\n",
    "1. Which country has the highest score? Why?\n",
    "2. How many observations are there?\n",
    "3. Are there any null values? How does this dataset need to be cleaned?\n",
    "4. Is there any correlation between the features?\n",
    "5. Are the minimum and maximum happiness scores reasonable? Are there any outliers?\n",
    "6. What is the mean happiness score?"
   ]
  },
  {
   "cell_type": "code",
   "execution_count": 4,
   "id": "3bebe355",
   "metadata": {},
   "outputs": [],
   "source": [
    "# imports\n",
    "import seaborn as sns\n",
    "import pandas as pd\n",
    "import numpy as np"
   ]
  },
  {
   "cell_type": "markdown",
   "id": "9b96d46a",
   "metadata": {},
   "source": [
    "### Reading in the Data\n",
    "\n",
    "First I am going to read in the data as a dataframe. It is a .csv file but I pushed it to GitHub so I can paste the raw link into the read_csv() function."
   ]
  },
  {
   "cell_type": "code",
   "execution_count": 21,
   "id": "77792a79",
   "metadata": {},
   "outputs": [],
   "source": [
    "data_url = 'https://raw.githubusercontent.com/stubbsdiondra/PortfolioProjects/main/World%20Happiness%202020%20Project/2020.csv'"
   ]
  },
  {
   "cell_type": "code",
   "execution_count": 22,
   "id": "2f8db077",
   "metadata": {},
   "outputs": [
    {
     "data": {
      "text/html": [
       "<div>\n",
       "<style scoped>\n",
       "    .dataframe tbody tr th:only-of-type {\n",
       "        vertical-align: middle;\n",
       "    }\n",
       "\n",
       "    .dataframe tbody tr th {\n",
       "        vertical-align: top;\n",
       "    }\n",
       "\n",
       "    .dataframe thead th {\n",
       "        text-align: right;\n",
       "    }\n",
       "</style>\n",
       "<table border=\"1\" class=\"dataframe\">\n",
       "  <thead>\n",
       "    <tr style=\"text-align: right;\">\n",
       "      <th></th>\n",
       "      <th>Country Name</th>\n",
       "      <th>Regional Indicator</th>\n",
       "      <th>Happiness Scores</th>\n",
       "      <th>Social Support</th>\n",
       "      <th>Healthy Life Expectancy</th>\n",
       "      <th>Freedom to Make Life Choices</th>\n",
       "      <th>Generosity</th>\n",
       "      <th>Perceptions of Corruption</th>\n",
       "    </tr>\n",
       "  </thead>\n",
       "  <tbody>\n",
       "    <tr>\n",
       "      <th>0</th>\n",
       "      <td>Finland</td>\n",
       "      <td>Europe</td>\n",
       "      <td>7.8087</td>\n",
       "      <td>0.954330</td>\n",
       "      <td>71.900825</td>\n",
       "      <td>0.949172</td>\n",
       "      <td>-0.059482</td>\n",
       "      <td>0.195445</td>\n",
       "    </tr>\n",
       "    <tr>\n",
       "      <th>1</th>\n",
       "      <td>Denmark</td>\n",
       "      <td>Europe</td>\n",
       "      <td>7.6456</td>\n",
       "      <td>0.955991</td>\n",
       "      <td>72.402504</td>\n",
       "      <td>0.951444</td>\n",
       "      <td>0.066202</td>\n",
       "      <td>0.168489</td>\n",
       "    </tr>\n",
       "    <tr>\n",
       "      <th>2</th>\n",
       "      <td>Switzerland</td>\n",
       "      <td>Europe</td>\n",
       "      <td>7.5599</td>\n",
       "      <td>0.942847</td>\n",
       "      <td>74.102448</td>\n",
       "      <td>0.921337</td>\n",
       "      <td>0.105911</td>\n",
       "      <td>0.303728</td>\n",
       "    </tr>\n",
       "    <tr>\n",
       "      <th>3</th>\n",
       "      <td>Iceland</td>\n",
       "      <td>Europe</td>\n",
       "      <td>7.5045</td>\n",
       "      <td>0.974670</td>\n",
       "      <td>73.000000</td>\n",
       "      <td>0.948892</td>\n",
       "      <td>0.246944</td>\n",
       "      <td>0.711710</td>\n",
       "    </tr>\n",
       "    <tr>\n",
       "      <th>4</th>\n",
       "      <td>Norway</td>\n",
       "      <td>Europe</td>\n",
       "      <td>7.4880</td>\n",
       "      <td>0.952487</td>\n",
       "      <td>73.200783</td>\n",
       "      <td>0.955750</td>\n",
       "      <td>0.134533</td>\n",
       "      <td>0.263218</td>\n",
       "    </tr>\n",
       "    <tr>\n",
       "      <th>...</th>\n",
       "      <td>...</td>\n",
       "      <td>...</td>\n",
       "      <td>...</td>\n",
       "      <td>...</td>\n",
       "      <td>...</td>\n",
       "      <td>...</td>\n",
       "      <td>...</td>\n",
       "      <td>...</td>\n",
       "    </tr>\n",
       "    <tr>\n",
       "      <th>148</th>\n",
       "      <td>Central African Republic</td>\n",
       "      <td>Africa</td>\n",
       "      <td>3.4800</td>\n",
       "      <td>0.320000</td>\n",
       "      <td>45.200000</td>\n",
       "      <td>0.640000</td>\n",
       "      <td>0.080000</td>\n",
       "      <td>0.890000</td>\n",
       "    </tr>\n",
       "    <tr>\n",
       "      <th>149</th>\n",
       "      <td>Rwanda</td>\n",
       "      <td>Africa</td>\n",
       "      <td>3.3100</td>\n",
       "      <td>0.540000</td>\n",
       "      <td>61.100000</td>\n",
       "      <td>0.900000</td>\n",
       "      <td>0.060000</td>\n",
       "      <td>0.180000</td>\n",
       "    </tr>\n",
       "    <tr>\n",
       "      <th>150</th>\n",
       "      <td>Zimbabwe</td>\n",
       "      <td>Africa</td>\n",
       "      <td>3.3000</td>\n",
       "      <td>0.760000</td>\n",
       "      <td>55.620000</td>\n",
       "      <td>0.710000</td>\n",
       "      <td>-0.070000</td>\n",
       "      <td>0.810000</td>\n",
       "    </tr>\n",
       "    <tr>\n",
       "      <th>151</th>\n",
       "      <td>South Sudan</td>\n",
       "      <td>Africa</td>\n",
       "      <td>2.8200</td>\n",
       "      <td>0.550000</td>\n",
       "      <td>51.000000</td>\n",
       "      <td>0.450000</td>\n",
       "      <td>0.020000</td>\n",
       "      <td>0.760000</td>\n",
       "    </tr>\n",
       "    <tr>\n",
       "      <th>152</th>\n",
       "      <td>Afghanistan</td>\n",
       "      <td>Asia</td>\n",
       "      <td>2.5669</td>\n",
       "      <td>0.470367</td>\n",
       "      <td>52.590000</td>\n",
       "      <td>0.396573</td>\n",
       "      <td>-0.096429</td>\n",
       "      <td>0.933687</td>\n",
       "    </tr>\n",
       "  </tbody>\n",
       "</table>\n",
       "<p>153 rows × 8 columns</p>\n",
       "</div>"
      ],
      "text/plain": [
       "                 Country Name Regional Indicator  Happiness Scores  \\\n",
       "0                     Finland             Europe            7.8087   \n",
       "1                     Denmark             Europe            7.6456   \n",
       "2                 Switzerland             Europe            7.5599   \n",
       "3                     Iceland             Europe            7.5045   \n",
       "4                      Norway             Europe            7.4880   \n",
       "..                        ...                ...               ...   \n",
       "148  Central African Republic             Africa            3.4800   \n",
       "149                    Rwanda             Africa            3.3100   \n",
       "150                  Zimbabwe             Africa            3.3000   \n",
       "151               South Sudan             Africa            2.8200   \n",
       "152               Afghanistan               Asia            2.5669   \n",
       "\n",
       "     Social Support  Healthy Life Expectancy  Freedom to Make Life Choices  \\\n",
       "0          0.954330                71.900825                      0.949172   \n",
       "1          0.955991                72.402504                      0.951444   \n",
       "2          0.942847                74.102448                      0.921337   \n",
       "3          0.974670                73.000000                      0.948892   \n",
       "4          0.952487                73.200783                      0.955750   \n",
       "..              ...                      ...                           ...   \n",
       "148        0.320000                45.200000                      0.640000   \n",
       "149        0.540000                61.100000                      0.900000   \n",
       "150        0.760000                55.620000                      0.710000   \n",
       "151        0.550000                51.000000                      0.450000   \n",
       "152        0.470367                52.590000                      0.396573   \n",
       "\n",
       "     Generosity  Perceptions of Corruption  \n",
       "0     -0.059482                   0.195445  \n",
       "1      0.066202                   0.168489  \n",
       "2      0.105911                   0.303728  \n",
       "3      0.246944                   0.711710  \n",
       "4      0.134533                   0.263218  \n",
       "..          ...                        ...  \n",
       "148    0.080000                   0.890000  \n",
       "149    0.060000                   0.180000  \n",
       "150   -0.070000                   0.810000  \n",
       "151    0.020000                   0.760000  \n",
       "152   -0.096429                   0.933687  \n",
       "\n",
       "[153 rows x 8 columns]"
      ]
     },
     "execution_count": 22,
     "metadata": {},
     "output_type": "execute_result"
    }
   ],
   "source": [
    "# loading into a dataframe\n",
    "df = pd.read_csv(data_url)\n",
    "df"
   ]
  },
  {
   "cell_type": "code",
   "execution_count": 23,
   "id": "5afc4f04",
   "metadata": {},
   "outputs": [
    {
     "data": {
      "text/plain": [
       "Index(['Country Name', 'Regional Indicator', 'Happiness Scores',\n",
       "       'Social Support', 'Healthy Life Expectancy',\n",
       "       'Freedom to Make Life Choices', 'Generosity',\n",
       "       'Perceptions of Corruption'],\n",
       "      dtype='object')"
      ]
     },
     "execution_count": 23,
     "metadata": {},
     "output_type": "execute_result"
    }
   ],
   "source": [
    "df.columns"
   ]
  },
  {
   "cell_type": "markdown",
   "id": "a3ae9323",
   "metadata": {},
   "source": [
    "### Exploratory Data Analysis\n",
    "\n",
    "I want to know how many observations are in the dataset. The .shape attribute will tell me the amount of rows and columns."
   ]
  },
  {
   "cell_type": "code",
   "execution_count": 24,
   "id": "365531ee",
   "metadata": {},
   "outputs": [
    {
     "data": {
      "text/plain": [
       "(153, 8)"
      ]
     },
     "execution_count": 24,
     "metadata": {},
     "output_type": "execute_result"
    }
   ],
   "source": [
    "df.shape"
   ]
  },
  {
   "cell_type": "markdown",
   "id": "b8e71757",
   "metadata": {},
   "source": [
    "There are 153 observations or 153 countries in this dataset."
   ]
  },
  {
   "cell_type": "markdown",
   "id": "dca0ae9a",
   "metadata": {},
   "source": [
    "I want to know if there are any NaN values in this dataset. This following shows that there are none."
   ]
  },
  {
   "cell_type": "code",
   "execution_count": 25,
   "id": "207f5ebf",
   "metadata": {},
   "outputs": [
    {
     "data": {
      "text/plain": [
       "False"
      ]
     },
     "execution_count": 25,
     "metadata": {},
     "output_type": "execute_result"
    }
   ],
   "source": [
    "df.isnull().values.any()"
   ]
  },
  {
   "cell_type": "markdown",
   "id": "e8a5b708",
   "metadata": {},
   "source": [
    "#### What are the data types in this dataset? Do they make sense?"
   ]
  },
  {
   "cell_type": "code",
   "execution_count": 26,
   "id": "a0ccb2f7",
   "metadata": {},
   "outputs": [
    {
     "data": {
      "text/plain": [
       "Country Name                     object\n",
       "Regional Indicator               object\n",
       "Happiness Scores                float64\n",
       "Social Support                  float64\n",
       "Healthy Life Expectancy         float64\n",
       "Freedom to Make Life Choices    float64\n",
       "Generosity                      float64\n",
       "Perceptions of Corruption       float64\n",
       "dtype: object"
      ]
     },
     "execution_count": 26,
     "metadata": {},
     "output_type": "execute_result"
    }
   ],
   "source": [
    "df.dtypes"
   ]
  },
  {
   "cell_type": "markdown",
   "id": "a45d7729",
   "metadata": {},
   "source": [
    "All the data types make sense for the columns in this dataset. It makes sense that Country name and Regional indicator are read in as objects since they are strings. The rest of the columns are decimal values so they should be read in as floats.\n",
    "\n",
    "From this we can see that this dataset doesn't need to be cleaned."
   ]
  },
  {
   "cell_type": "markdown",
   "id": "af0655d6",
   "metadata": {},
   "source": [
    "### Are the minimum and maximum happiness scores reasonable? Are there any outliers?"
   ]
  },
  {
   "cell_type": "code",
   "execution_count": 27,
   "id": "b628e9e2",
   "metadata": {},
   "outputs": [
    {
     "data": {
      "text/plain": [
       "7.808700085"
      ]
     },
     "execution_count": 27,
     "metadata": {},
     "output_type": "execute_result"
    }
   ],
   "source": [
    "df['Happiness Scores'].max()"
   ]
  },
  {
   "cell_type": "code",
   "execution_count": 28,
   "id": "f546ca35",
   "metadata": {},
   "outputs": [
    {
     "data": {
      "text/plain": [
       "Index(['Country Name', 'Regional Indicator', 'Happiness Scores',\n",
       "       'Social Support', 'Healthy Life Expectancy',\n",
       "       'Freedom to Make Life Choices', 'Generosity',\n",
       "       'Perceptions of Corruption'],\n",
       "      dtype='object')"
      ]
     },
     "execution_count": 28,
     "metadata": {},
     "output_type": "execute_result"
    }
   ],
   "source": [
    "df.columns"
   ]
  },
  {
   "cell_type": "code",
   "execution_count": 29,
   "id": "80aaf826",
   "metadata": {},
   "outputs": [
    {
     "data": {
      "text/plain": [
       "2.566900015"
      ]
     },
     "execution_count": 29,
     "metadata": {},
     "output_type": "execute_result"
    }
   ],
   "source": [
    "df['Happiness Scores'].min()"
   ]
  },
  {
   "cell_type": "markdown",
   "id": "4703eefe",
   "metadata": {},
   "source": [
    "They are reasonable since all the scores range between 1 and 8. \n",
    "\n",
    "### What's the average score for all the countries?"
   ]
  },
  {
   "cell_type": "code",
   "execution_count": 30,
   "id": "f1f6772e",
   "metadata": {},
   "outputs": [
    {
     "data": {
      "text/plain": [
       "5.473249015261436"
      ]
     },
     "execution_count": 30,
     "metadata": {},
     "output_type": "execute_result"
    }
   ],
   "source": [
    "df['Happiness Scores'].mean()"
   ]
  },
  {
   "cell_type": "markdown",
   "id": "293ccf22",
   "metadata": {},
   "source": [
    "### Is there any correlation between the features? \n",
    "\n",
    "I'm going to use happiness Score as the taregt since the other features explain it."
   ]
  },
  {
   "cell_type": "code",
   "execution_count": 31,
   "id": "9f4c4094",
   "metadata": {},
   "outputs": [
    {
     "data": {
      "text/html": [
       "<div>\n",
       "<style scoped>\n",
       "    .dataframe tbody tr th:only-of-type {\n",
       "        vertical-align: middle;\n",
       "    }\n",
       "\n",
       "    .dataframe tbody tr th {\n",
       "        vertical-align: top;\n",
       "    }\n",
       "\n",
       "    .dataframe thead th {\n",
       "        text-align: right;\n",
       "    }\n",
       "</style>\n",
       "<table border=\"1\" class=\"dataframe\">\n",
       "  <thead>\n",
       "    <tr style=\"text-align: right;\">\n",
       "      <th></th>\n",
       "      <th>Happiness Scores</th>\n",
       "      <th>Social Support</th>\n",
       "      <th>Healthy Life Expectancy</th>\n",
       "      <th>Freedom to Make Life Choices</th>\n",
       "      <th>Generosity</th>\n",
       "      <th>Perceptions of Corruption</th>\n",
       "    </tr>\n",
       "  </thead>\n",
       "  <tbody>\n",
       "    <tr>\n",
       "      <th>Happiness Scores</th>\n",
       "      <td>1.000000</td>\n",
       "      <td>0.765448</td>\n",
       "      <td>0.770371</td>\n",
       "      <td>0.591004</td>\n",
       "      <td>0.069882</td>\n",
       "      <td>-0.417930</td>\n",
       "    </tr>\n",
       "    <tr>\n",
       "      <th>Social Support</th>\n",
       "      <td>0.765448</td>\n",
       "      <td>1.000000</td>\n",
       "      <td>0.742959</td>\n",
       "      <td>0.478788</td>\n",
       "      <td>-0.057798</td>\n",
       "      <td>-0.209332</td>\n",
       "    </tr>\n",
       "    <tr>\n",
       "      <th>Healthy Life Expectancy</th>\n",
       "      <td>0.770371</td>\n",
       "      <td>0.742959</td>\n",
       "      <td>1.000000</td>\n",
       "      <td>0.447925</td>\n",
       "      <td>-0.071020</td>\n",
       "      <td>-0.352839</td>\n",
       "    </tr>\n",
       "    <tr>\n",
       "      <th>Freedom to Make Life Choices</th>\n",
       "      <td>0.591004</td>\n",
       "      <td>0.478788</td>\n",
       "      <td>0.447925</td>\n",
       "      <td>1.000000</td>\n",
       "      <td>0.254236</td>\n",
       "      <td>-0.421204</td>\n",
       "    </tr>\n",
       "    <tr>\n",
       "      <th>Generosity</th>\n",
       "      <td>0.069882</td>\n",
       "      <td>-0.057798</td>\n",
       "      <td>-0.071020</td>\n",
       "      <td>0.254236</td>\n",
       "      <td>1.000000</td>\n",
       "      <td>-0.280495</td>\n",
       "    </tr>\n",
       "    <tr>\n",
       "      <th>Perceptions of Corruption</th>\n",
       "      <td>-0.417930</td>\n",
       "      <td>-0.209332</td>\n",
       "      <td>-0.352839</td>\n",
       "      <td>-0.421204</td>\n",
       "      <td>-0.280495</td>\n",
       "      <td>1.000000</td>\n",
       "    </tr>\n",
       "  </tbody>\n",
       "</table>\n",
       "</div>"
      ],
      "text/plain": [
       "                              Happiness Scores  Social Support  \\\n",
       "Happiness Scores                      1.000000        0.765448   \n",
       "Social Support                        0.765448        1.000000   \n",
       "Healthy Life Expectancy               0.770371        0.742959   \n",
       "Freedom to Make Life Choices          0.591004        0.478788   \n",
       "Generosity                            0.069882       -0.057798   \n",
       "Perceptions of Corruption            -0.417930       -0.209332   \n",
       "\n",
       "                              Healthy Life Expectancy  \\\n",
       "Happiness Scores                             0.770371   \n",
       "Social Support                               0.742959   \n",
       "Healthy Life Expectancy                      1.000000   \n",
       "Freedom to Make Life Choices                 0.447925   \n",
       "Generosity                                  -0.071020   \n",
       "Perceptions of Corruption                   -0.352839   \n",
       "\n",
       "                              Freedom to Make Life Choices  Generosity  \\\n",
       "Happiness Scores                                  0.591004    0.069882   \n",
       "Social Support                                    0.478788   -0.057798   \n",
       "Healthy Life Expectancy                           0.447925   -0.071020   \n",
       "Freedom to Make Life Choices                      1.000000    0.254236   \n",
       "Generosity                                        0.254236    1.000000   \n",
       "Perceptions of Corruption                        -0.421204   -0.280495   \n",
       "\n",
       "                              Perceptions of Corruption  \n",
       "Happiness Scores                              -0.417930  \n",
       "Social Support                                -0.209332  \n",
       "Healthy Life Expectancy                       -0.352839  \n",
       "Freedom to Make Life Choices                  -0.421204  \n",
       "Generosity                                    -0.280495  \n",
       "Perceptions of Corruption                      1.000000  "
      ]
     },
     "execution_count": 31,
     "metadata": {},
     "output_type": "execute_result"
    }
   ],
   "source": [
    "# Using pearson correlation to find out what features contribute most to predicting our target\n",
    "correlation = df.corr('pearson')\n",
    "correlation"
   ]
  },
  {
   "cell_type": "code",
   "execution_count": 32,
   "id": "9d216d56",
   "metadata": {},
   "outputs": [
    {
     "data": {
      "text/plain": [
       "Happiness Scores                1.000000\n",
       "Healthy Life Expectancy         0.770371\n",
       "Social Support                  0.765448\n",
       "Freedom to Make Life Choices    0.591004\n",
       "Generosity                      0.069882\n",
       "Perceptions of Corruption       0.417930\n",
       "Name: Happiness Scores, dtype: float64"
      ]
     },
     "execution_count": 32,
     "metadata": {},
     "output_type": "execute_result"
    }
   ],
   "source": [
    "abs(correlation['Happiness Scores'].sort_values(ascending=False))"
   ]
  },
  {
   "cell_type": "markdown",
   "id": "e02f52c9",
   "metadata": {},
   "source": [
    "Healthy life expectancy and Social support are highly correlated with Happiness Scores. This means that if I wanted perform a predicitve analysis, I could play around with some regression models using these three features to predict the target, Happiness Scores."
   ]
  },
  {
   "cell_type": "markdown",
   "id": "0f92816b",
   "metadata": {},
   "source": [
    "### Which country has the highest score? Why?"
   ]
  },
  {
   "cell_type": "code",
   "execution_count": 33,
   "id": "59c5c117",
   "metadata": {},
   "outputs": [
    {
     "data": {
      "text/html": [
       "<div>\n",
       "<style scoped>\n",
       "    .dataframe tbody tr th:only-of-type {\n",
       "        vertical-align: middle;\n",
       "    }\n",
       "\n",
       "    .dataframe tbody tr th {\n",
       "        vertical-align: top;\n",
       "    }\n",
       "\n",
       "    .dataframe thead th {\n",
       "        text-align: right;\n",
       "    }\n",
       "</style>\n",
       "<table border=\"1\" class=\"dataframe\">\n",
       "  <thead>\n",
       "    <tr style=\"text-align: right;\">\n",
       "      <th></th>\n",
       "      <th>Country Name</th>\n",
       "      <th>Regional Indicator</th>\n",
       "      <th>Happiness Scores</th>\n",
       "      <th>Social Support</th>\n",
       "      <th>Healthy Life Expectancy</th>\n",
       "      <th>Freedom to Make Life Choices</th>\n",
       "      <th>Generosity</th>\n",
       "      <th>Perceptions of Corruption</th>\n",
       "    </tr>\n",
       "  </thead>\n",
       "  <tbody>\n",
       "    <tr>\n",
       "      <th>0</th>\n",
       "      <td>Finland</td>\n",
       "      <td>Europe</td>\n",
       "      <td>7.8087</td>\n",
       "      <td>0.954330</td>\n",
       "      <td>71.900825</td>\n",
       "      <td>0.949172</td>\n",
       "      <td>-0.059482</td>\n",
       "      <td>0.195445</td>\n",
       "    </tr>\n",
       "    <tr>\n",
       "      <th>1</th>\n",
       "      <td>Denmark</td>\n",
       "      <td>Europe</td>\n",
       "      <td>7.6456</td>\n",
       "      <td>0.955991</td>\n",
       "      <td>72.402504</td>\n",
       "      <td>0.951444</td>\n",
       "      <td>0.066202</td>\n",
       "      <td>0.168489</td>\n",
       "    </tr>\n",
       "    <tr>\n",
       "      <th>2</th>\n",
       "      <td>Switzerland</td>\n",
       "      <td>Europe</td>\n",
       "      <td>7.5599</td>\n",
       "      <td>0.942847</td>\n",
       "      <td>74.102448</td>\n",
       "      <td>0.921337</td>\n",
       "      <td>0.105911</td>\n",
       "      <td>0.303728</td>\n",
       "    </tr>\n",
       "    <tr>\n",
       "      <th>3</th>\n",
       "      <td>Iceland</td>\n",
       "      <td>Europe</td>\n",
       "      <td>7.5045</td>\n",
       "      <td>0.974670</td>\n",
       "      <td>73.000000</td>\n",
       "      <td>0.948892</td>\n",
       "      <td>0.246944</td>\n",
       "      <td>0.711710</td>\n",
       "    </tr>\n",
       "    <tr>\n",
       "      <th>4</th>\n",
       "      <td>Norway</td>\n",
       "      <td>Europe</td>\n",
       "      <td>7.4880</td>\n",
       "      <td>0.952487</td>\n",
       "      <td>73.200783</td>\n",
       "      <td>0.955750</td>\n",
       "      <td>0.134533</td>\n",
       "      <td>0.263218</td>\n",
       "    </tr>\n",
       "    <tr>\n",
       "      <th>...</th>\n",
       "      <td>...</td>\n",
       "      <td>...</td>\n",
       "      <td>...</td>\n",
       "      <td>...</td>\n",
       "      <td>...</td>\n",
       "      <td>...</td>\n",
       "      <td>...</td>\n",
       "      <td>...</td>\n",
       "    </tr>\n",
       "    <tr>\n",
       "      <th>148</th>\n",
       "      <td>Central African Republic</td>\n",
       "      <td>Africa</td>\n",
       "      <td>3.4800</td>\n",
       "      <td>0.320000</td>\n",
       "      <td>45.200000</td>\n",
       "      <td>0.640000</td>\n",
       "      <td>0.080000</td>\n",
       "      <td>0.890000</td>\n",
       "    </tr>\n",
       "    <tr>\n",
       "      <th>149</th>\n",
       "      <td>Rwanda</td>\n",
       "      <td>Africa</td>\n",
       "      <td>3.3100</td>\n",
       "      <td>0.540000</td>\n",
       "      <td>61.100000</td>\n",
       "      <td>0.900000</td>\n",
       "      <td>0.060000</td>\n",
       "      <td>0.180000</td>\n",
       "    </tr>\n",
       "    <tr>\n",
       "      <th>150</th>\n",
       "      <td>Zimbabwe</td>\n",
       "      <td>Africa</td>\n",
       "      <td>3.3000</td>\n",
       "      <td>0.760000</td>\n",
       "      <td>55.620000</td>\n",
       "      <td>0.710000</td>\n",
       "      <td>-0.070000</td>\n",
       "      <td>0.810000</td>\n",
       "    </tr>\n",
       "    <tr>\n",
       "      <th>151</th>\n",
       "      <td>South Sudan</td>\n",
       "      <td>Africa</td>\n",
       "      <td>2.8200</td>\n",
       "      <td>0.550000</td>\n",
       "      <td>51.000000</td>\n",
       "      <td>0.450000</td>\n",
       "      <td>0.020000</td>\n",
       "      <td>0.760000</td>\n",
       "    </tr>\n",
       "    <tr>\n",
       "      <th>152</th>\n",
       "      <td>Afghanistan</td>\n",
       "      <td>Asia</td>\n",
       "      <td>2.5669</td>\n",
       "      <td>0.470367</td>\n",
       "      <td>52.590000</td>\n",
       "      <td>0.396573</td>\n",
       "      <td>-0.096429</td>\n",
       "      <td>0.933687</td>\n",
       "    </tr>\n",
       "  </tbody>\n",
       "</table>\n",
       "<p>153 rows × 8 columns</p>\n",
       "</div>"
      ],
      "text/plain": [
       "                 Country Name Regional Indicator  Happiness Scores  \\\n",
       "0                     Finland             Europe            7.8087   \n",
       "1                     Denmark             Europe            7.6456   \n",
       "2                 Switzerland             Europe            7.5599   \n",
       "3                     Iceland             Europe            7.5045   \n",
       "4                      Norway             Europe            7.4880   \n",
       "..                        ...                ...               ...   \n",
       "148  Central African Republic             Africa            3.4800   \n",
       "149                    Rwanda             Africa            3.3100   \n",
       "150                  Zimbabwe             Africa            3.3000   \n",
       "151               South Sudan             Africa            2.8200   \n",
       "152               Afghanistan               Asia            2.5669   \n",
       "\n",
       "     Social Support  Healthy Life Expectancy  Freedom to Make Life Choices  \\\n",
       "0          0.954330                71.900825                      0.949172   \n",
       "1          0.955991                72.402504                      0.951444   \n",
       "2          0.942847                74.102448                      0.921337   \n",
       "3          0.974670                73.000000                      0.948892   \n",
       "4          0.952487                73.200783                      0.955750   \n",
       "..              ...                      ...                           ...   \n",
       "148        0.320000                45.200000                      0.640000   \n",
       "149        0.540000                61.100000                      0.900000   \n",
       "150        0.760000                55.620000                      0.710000   \n",
       "151        0.550000                51.000000                      0.450000   \n",
       "152        0.470367                52.590000                      0.396573   \n",
       "\n",
       "     Generosity  Perceptions of Corruption  \n",
       "0     -0.059482                   0.195445  \n",
       "1      0.066202                   0.168489  \n",
       "2      0.105911                   0.303728  \n",
       "3      0.246944                   0.711710  \n",
       "4      0.134533                   0.263218  \n",
       "..          ...                        ...  \n",
       "148    0.080000                   0.890000  \n",
       "149    0.060000                   0.180000  \n",
       "150   -0.070000                   0.810000  \n",
       "151    0.020000                   0.760000  \n",
       "152   -0.096429                   0.933687  \n",
       "\n",
       "[153 rows x 8 columns]"
      ]
     },
     "execution_count": 33,
     "metadata": {},
     "output_type": "execute_result"
    }
   ],
   "source": [
    "df"
   ]
  },
  {
   "cell_type": "code",
   "execution_count": 34,
   "id": "9570166c",
   "metadata": {},
   "outputs": [
    {
     "data": {
      "text/plain": [
       "Index(['Country Name', 'Regional Indicator', 'Happiness Scores',\n",
       "       'Social Support', 'Healthy Life Expectancy',\n",
       "       'Freedom to Make Life Choices', 'Generosity',\n",
       "       'Perceptions of Corruption'],\n",
       "      dtype='object')"
      ]
     },
     "execution_count": 34,
     "metadata": {},
     "output_type": "execute_result"
    }
   ],
   "source": [
    "df.columns"
   ]
  },
  {
   "cell_type": "code",
   "execution_count": 35,
   "id": "5658d9a1",
   "metadata": {},
   "outputs": [
    {
     "data": {
      "text/plain": [
       "7.808700085"
      ]
     },
     "execution_count": 35,
     "metadata": {},
     "output_type": "execute_result"
    }
   ],
   "source": [
    "df['Happiness Scores'].max()"
   ]
  },
  {
   "cell_type": "markdown",
   "id": "ff14393b",
   "metadata": {},
   "source": [
    "The highest happiness score in  belongs to Finland with a score of 7.8."
   ]
  },
  {
   "cell_type": "markdown",
   "id": "d8e89163",
   "metadata": {},
   "source": [
    "#### Why?\n",
    "\n",
    "First I'll look at the data for this country."
   ]
  },
  {
   "cell_type": "code",
   "execution_count": 36,
   "id": "75f383d1",
   "metadata": {},
   "outputs": [
    {
     "data": {
      "text/plain": [
       "Country Name                      Finland\n",
       "Regional Indicator                 Europe\n",
       "Happiness Scores                   7.8087\n",
       "Social Support                    0.95433\n",
       "Healthy Life Expectancy         71.900825\n",
       "Freedom to Make Life Choices     0.949172\n",
       "Generosity                      -0.059482\n",
       "Perceptions of Corruption        0.195445\n",
       "Name: 0, dtype: object"
      ]
     },
     "execution_count": 36,
     "metadata": {},
     "output_type": "execute_result"
    }
   ],
   "source": [
    "df.loc[0]"
   ]
  },
  {
   "cell_type": "code",
   "execution_count": 37,
   "id": "fd534cfe",
   "metadata": {},
   "outputs": [
    {
     "data": {
      "text/html": [
       "<div>\n",
       "<style scoped>\n",
       "    .dataframe tbody tr th:only-of-type {\n",
       "        vertical-align: middle;\n",
       "    }\n",
       "\n",
       "    .dataframe tbody tr th {\n",
       "        vertical-align: top;\n",
       "    }\n",
       "\n",
       "    .dataframe thead th {\n",
       "        text-align: right;\n",
       "    }\n",
       "</style>\n",
       "<table border=\"1\" class=\"dataframe\">\n",
       "  <thead>\n",
       "    <tr style=\"text-align: right;\">\n",
       "      <th></th>\n",
       "      <th>Happiness Scores</th>\n",
       "      <th>Social Support</th>\n",
       "      <th>Healthy Life Expectancy</th>\n",
       "      <th>Freedom to Make Life Choices</th>\n",
       "      <th>Generosity</th>\n",
       "      <th>Perceptions of Corruption</th>\n",
       "    </tr>\n",
       "  </thead>\n",
       "  <tbody>\n",
       "    <tr>\n",
       "      <th>count</th>\n",
       "      <td>153.000000</td>\n",
       "      <td>153.000000</td>\n",
       "      <td>153.000000</td>\n",
       "      <td>153.000000</td>\n",
       "      <td>153.000000</td>\n",
       "      <td>153.000000</td>\n",
       "    </tr>\n",
       "    <tr>\n",
       "      <th>mean</th>\n",
       "      <td>5.473249</td>\n",
       "      <td>0.808636</td>\n",
       "      <td>64.445650</td>\n",
       "      <td>0.783413</td>\n",
       "      <td>-0.014719</td>\n",
       "      <td>0.733179</td>\n",
       "    </tr>\n",
       "    <tr>\n",
       "      <th>std</th>\n",
       "      <td>1.112094</td>\n",
       "      <td>0.121546</td>\n",
       "      <td>7.057819</td>\n",
       "      <td>0.117595</td>\n",
       "      <td>0.151764</td>\n",
       "      <td>0.175276</td>\n",
       "    </tr>\n",
       "    <tr>\n",
       "      <th>min</th>\n",
       "      <td>2.566900</td>\n",
       "      <td>0.320000</td>\n",
       "      <td>45.200000</td>\n",
       "      <td>0.396573</td>\n",
       "      <td>-0.300907</td>\n",
       "      <td>0.109784</td>\n",
       "    </tr>\n",
       "    <tr>\n",
       "      <th>25%</th>\n",
       "      <td>4.720000</td>\n",
       "      <td>0.740000</td>\n",
       "      <td>58.961712</td>\n",
       "      <td>0.714839</td>\n",
       "      <td>-0.127015</td>\n",
       "      <td>0.682620</td>\n",
       "    </tr>\n",
       "    <tr>\n",
       "      <th>50%</th>\n",
       "      <td>5.515000</td>\n",
       "      <td>0.830000</td>\n",
       "      <td>66.305145</td>\n",
       "      <td>0.799805</td>\n",
       "      <td>-0.033665</td>\n",
       "      <td>0.783122</td>\n",
       "    </tr>\n",
       "    <tr>\n",
       "      <th>75%</th>\n",
       "      <td>6.228500</td>\n",
       "      <td>0.906747</td>\n",
       "      <td>69.289192</td>\n",
       "      <td>0.877709</td>\n",
       "      <td>0.085429</td>\n",
       "      <td>0.850000</td>\n",
       "    </tr>\n",
       "    <tr>\n",
       "      <th>max</th>\n",
       "      <td>7.808700</td>\n",
       "      <td>0.974670</td>\n",
       "      <td>76.804581</td>\n",
       "      <td>0.974998</td>\n",
       "      <td>0.560664</td>\n",
       "      <td>0.935585</td>\n",
       "    </tr>\n",
       "  </tbody>\n",
       "</table>\n",
       "</div>"
      ],
      "text/plain": [
       "       Happiness Scores  Social Support  Healthy Life Expectancy  \\\n",
       "count        153.000000      153.000000               153.000000   \n",
       "mean           5.473249        0.808636                64.445650   \n",
       "std            1.112094        0.121546                 7.057819   \n",
       "min            2.566900        0.320000                45.200000   \n",
       "25%            4.720000        0.740000                58.961712   \n",
       "50%            5.515000        0.830000                66.305145   \n",
       "75%            6.228500        0.906747                69.289192   \n",
       "max            7.808700        0.974670                76.804581   \n",
       "\n",
       "       Freedom to Make Life Choices  Generosity  Perceptions of Corruption  \n",
       "count                    153.000000  153.000000                 153.000000  \n",
       "mean                       0.783413   -0.014719                   0.733179  \n",
       "std                        0.117595    0.151764                   0.175276  \n",
       "min                        0.396573   -0.300907                   0.109784  \n",
       "25%                        0.714839   -0.127015                   0.682620  \n",
       "50%                        0.799805   -0.033665                   0.783122  \n",
       "75%                        0.877709    0.085429                   0.850000  \n",
       "max                        0.974998    0.560664                   0.935585  "
      ]
     },
     "execution_count": 37,
     "metadata": {},
     "output_type": "execute_result"
    }
   ],
   "source": [
    "df.describe()"
   ]
  },
  {
   "cell_type": "markdown",
   "id": "4f7162ab",
   "metadata": {},
   "source": [
    "I'm looking at the maximum values across all columns. Finland has a pretty high value for Social Support, Healthy Life Expectancy and Freedom to Make Life Choices when compared to the maximum. It has a fairly low score for Perceptions of Corruption when compared to the minimum.\n",
    "\n",
    "While this does not determine Finland's score, it may explain why they score the highest Happiness score in the world."
   ]
  },
  {
   "cell_type": "code",
   "execution_count": 38,
   "id": "5c7eef9a",
   "metadata": {},
   "outputs": [
    {
     "data": {
      "text/html": [
       "<div>\n",
       "<style scoped>\n",
       "    .dataframe tbody tr th:only-of-type {\n",
       "        vertical-align: middle;\n",
       "    }\n",
       "\n",
       "    .dataframe tbody tr th {\n",
       "        vertical-align: top;\n",
       "    }\n",
       "\n",
       "    .dataframe thead th {\n",
       "        text-align: right;\n",
       "    }\n",
       "</style>\n",
       "<table border=\"1\" class=\"dataframe\">\n",
       "  <thead>\n",
       "    <tr style=\"text-align: right;\">\n",
       "      <th></th>\n",
       "      <th>Happiness Scores</th>\n",
       "      <th>Social Support</th>\n",
       "      <th>Healthy Life Expectancy</th>\n",
       "      <th>Freedom to Make Life Choices</th>\n",
       "      <th>Generosity</th>\n",
       "      <th>Perceptions of Corruption</th>\n",
       "    </tr>\n",
       "  </thead>\n",
       "  <tbody>\n",
       "    <tr>\n",
       "      <th>Happiness Scores</th>\n",
       "      <td>1.000000</td>\n",
       "      <td>0.765448</td>\n",
       "      <td>0.770371</td>\n",
       "      <td>0.591004</td>\n",
       "      <td>0.069882</td>\n",
       "      <td>-0.417930</td>\n",
       "    </tr>\n",
       "    <tr>\n",
       "      <th>Social Support</th>\n",
       "      <td>0.765448</td>\n",
       "      <td>1.000000</td>\n",
       "      <td>0.742959</td>\n",
       "      <td>0.478788</td>\n",
       "      <td>-0.057798</td>\n",
       "      <td>-0.209332</td>\n",
       "    </tr>\n",
       "    <tr>\n",
       "      <th>Healthy Life Expectancy</th>\n",
       "      <td>0.770371</td>\n",
       "      <td>0.742959</td>\n",
       "      <td>1.000000</td>\n",
       "      <td>0.447925</td>\n",
       "      <td>-0.071020</td>\n",
       "      <td>-0.352839</td>\n",
       "    </tr>\n",
       "    <tr>\n",
       "      <th>Freedom to Make Life Choices</th>\n",
       "      <td>0.591004</td>\n",
       "      <td>0.478788</td>\n",
       "      <td>0.447925</td>\n",
       "      <td>1.000000</td>\n",
       "      <td>0.254236</td>\n",
       "      <td>-0.421204</td>\n",
       "    </tr>\n",
       "    <tr>\n",
       "      <th>Generosity</th>\n",
       "      <td>0.069882</td>\n",
       "      <td>-0.057798</td>\n",
       "      <td>-0.071020</td>\n",
       "      <td>0.254236</td>\n",
       "      <td>1.000000</td>\n",
       "      <td>-0.280495</td>\n",
       "    </tr>\n",
       "    <tr>\n",
       "      <th>Perceptions of Corruption</th>\n",
       "      <td>-0.417930</td>\n",
       "      <td>-0.209332</td>\n",
       "      <td>-0.352839</td>\n",
       "      <td>-0.421204</td>\n",
       "      <td>-0.280495</td>\n",
       "      <td>1.000000</td>\n",
       "    </tr>\n",
       "  </tbody>\n",
       "</table>\n",
       "</div>"
      ],
      "text/plain": [
       "                              Happiness Scores  Social Support  \\\n",
       "Happiness Scores                      1.000000        0.765448   \n",
       "Social Support                        0.765448        1.000000   \n",
       "Healthy Life Expectancy               0.770371        0.742959   \n",
       "Freedom to Make Life Choices          0.591004        0.478788   \n",
       "Generosity                            0.069882       -0.057798   \n",
       "Perceptions of Corruption            -0.417930       -0.209332   \n",
       "\n",
       "                              Healthy Life Expectancy  \\\n",
       "Happiness Scores                             0.770371   \n",
       "Social Support                               0.742959   \n",
       "Healthy Life Expectancy                      1.000000   \n",
       "Freedom to Make Life Choices                 0.447925   \n",
       "Generosity                                  -0.071020   \n",
       "Perceptions of Corruption                   -0.352839   \n",
       "\n",
       "                              Freedom to Make Life Choices  Generosity  \\\n",
       "Happiness Scores                                  0.591004    0.069882   \n",
       "Social Support                                    0.478788   -0.057798   \n",
       "Healthy Life Expectancy                           0.447925   -0.071020   \n",
       "Freedom to Make Life Choices                      1.000000    0.254236   \n",
       "Generosity                                        0.254236    1.000000   \n",
       "Perceptions of Corruption                        -0.421204   -0.280495   \n",
       "\n",
       "                              Perceptions of Corruption  \n",
       "Happiness Scores                              -0.417930  \n",
       "Social Support                                -0.209332  \n",
       "Healthy Life Expectancy                       -0.352839  \n",
       "Freedom to Make Life Choices                  -0.421204  \n",
       "Generosity                                    -0.280495  \n",
       "Perceptions of Corruption                      1.000000  "
      ]
     },
     "execution_count": 38,
     "metadata": {},
     "output_type": "execute_result"
    }
   ],
   "source": [
    "df.corr()"
   ]
  },
  {
   "cell_type": "code",
   "execution_count": 39,
   "id": "63411c85",
   "metadata": {},
   "outputs": [
    {
     "data": {
      "text/plain": [
       "Text(0.5, 1.0, 'Correlations of Country Data Features')"
      ]
     },
     "execution_count": 39,
     "metadata": {},
     "output_type": "execute_result"
    },
    {
     "data": {
      "image/png": "[encoded data removed]",
      "text/plain": [
       "<Figure size 432x288 with 2 Axes>"
      ]
     },
     "metadata": {
      "needs_background": "light"
     },
     "output_type": "display_data"
    }
   ],
   "source": [
    "heatmap = sns.heatmap(df.corr(),vmin=-1, vmax=1, annot=True)\n",
    "heatmap.set_title('Correlations of Country Data Features', fontdict={'fontsize':12}, pad=12)"
   ]
  },
  {
   "cell_type": "markdown",
   "id": "3fdb278a",
   "metadata": {},
   "source": [
    "Social Support and Healthy Life Expectancy are highly correlated with Happiness Score. Freedom to Make Life choices also has a significant correlation to Happpiness Scores. \n",
    "\n",
    "Correlation does not mean causation but these features may contribute better than the other factors. This can also give us an idea of which features to drop when we run the regression analysis on this data."
   ]
  }
 ],
 "metadata": {
  "kernelspec": {
   "display_name": "Python 3",
   "language": "python",
   "name": "python3"
  },
  "language_info": {
   "codemirror_mode": {
    "name": "ipython",
    "version": 3
   },
   "file_extension": ".py",
   "mimetype": "text/x-python",
   "name": "python",
   "nbconvert_exporter": "python",
   "pygments_lexer": "ipython3",
   "version": "3.8.8"
  }
 },
 "nbformat": 4,
 "nbformat_minor": 5
}
